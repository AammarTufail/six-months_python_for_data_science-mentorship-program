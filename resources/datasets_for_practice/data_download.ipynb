{
 "cells": [
  {
   "cell_type": "code",
   "execution_count": 1,
   "metadata": {},
   "outputs": [],
   "source": [
    "import pandas as pd\n",
    "import numpy as np\n",
    "import seaborn as sns\n",
    "\n",
    "# Load the data\n",
    "titanic = sns.load_dataset('titanic')\n",
    "iris = sns.load_dataset('iris')\n",
    "tips = sns.load_dataset('tips')\n",
    "diamonds = sns.load_dataset('diamonds')\n",
    "\n",
    "# save all the dataframes to csv\n",
    "titanic.to_csv('titanic.csv', header=True, index=False)\n",
    "iris.to_csv('iris.csv', header=True, index=False)\n",
    "tips.to_csv('tips.csv', header=True, index=False)\n",
    "diamonds.to_csv('diamonds.csv', header=True, index=False)"
   ]
  }
 ],
 "metadata": {
  "kernelspec": {
   "display_name": "python_ml",
   "language": "python",
   "name": "python3"
  },
  "language_info": {
   "codemirror_mode": {
    "name": "ipython",
    "version": 3
   },
   "file_extension": ".py",
   "mimetype": "text/x-python",
   "name": "python",
   "nbconvert_exporter": "python",
   "pygments_lexer": "ipython3",
   "version": "3.12.0"
  }
 },
 "nbformat": 4,
 "nbformat_minor": 2
}
