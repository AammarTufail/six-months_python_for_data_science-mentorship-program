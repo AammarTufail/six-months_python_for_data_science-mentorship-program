{
 "cells": [
  {
   "attachments": {},
   "cell_type": "markdown",
   "metadata": {},
   "source": [
    "# See lectur's Video here:\n",
    "1. [Feature Engineering](https://youtu.be/Vst6RXyKUIw)\n",
    "2. [Feature Selection](https://youtu.be/CtLyMRaZ65o)\n"
   ]
  }
 ],
 "metadata": {
  "language_info": {
   "name": "python"
  },
  "orig_nbformat": 4
 },
 "nbformat": 4,
 "nbformat_minor": 2
}
