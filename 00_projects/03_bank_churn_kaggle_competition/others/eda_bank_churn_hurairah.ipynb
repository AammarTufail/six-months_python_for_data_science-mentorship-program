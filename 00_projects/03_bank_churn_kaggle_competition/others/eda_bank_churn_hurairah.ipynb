{
 "cells": [
  {
   "cell_type": "markdown",
   "metadata": {},
   "source": [
    "<img src=\"https://drive.google.com/file/d/1pRABOqky6x-IHvrw9c1Ai4bvNNLe8k9w/view\" alt=\"Churn Image\" style=\"width: 100%; border-radius: 15px;\">\n"
   ]
  },
  {
   "cell_type": "markdown",
   "metadata": {},
   "source": [
    " **From Data_Science in 6_months by Dr.Aammar**\n",
    "1. Subject of this Juypeter notebook script: **`Portfolio Project_ Binary Classification with a Bank Churn Dataset`**\n",
    "2. Authorized by: Engr.Hurrirah\n",
    "3. Where to contact: engr.mht21@gmail.com, [linkedIn](www.linkedin.com/in/hurairah-tahir/), [Github](https://github.com/EngrHurrirah)\n",
    "4. Date: 01/22/2024\n",
    "\n",
    "5. `Purpose:` To perfoam:\n",
    "    + Detailed EDA\n",
    "    + Apply Neural network model\n",
    "    + Increase the accuracy"
   ]
  },
  {
   "cell_type": "markdown",
   "metadata": {},
   "source": [
    "<div style=\"text-align: left; background-color: #1a1a1a; font-family: 'Trebuchet MS', sans-serif; color: #d9d9d9; padding: 20px; line-height: 1.2; border-radius: 8px; margin-bottom: 0em; text-align: center; font-size: 24px; border: 2px solid #004080;\">\n",
    "About DataSet\n",
    "</div>\n"
   ]
  },
  {
   "cell_type": "markdown",
   "metadata": {},
   "source": [
    "## **Description:**\n",
    "The dataset for this competition (both train and test) was generated from a deep learning model trained on the Bank Customer Churn Prediction dataset. Feature distributions are close to, but not exactly the same, as the original. \n",
    "\n",
    "#### our dataset containe :\n",
    "\n",
    "| Column Name      | Description |\n",
    "|------------------|-------------|\n",
    "| Surname          | Customer's surname (not typically useful for prediction). |\n",
    "| CreditScore      | Customer's credit score. |\n",
    "| Geography        | Customer's country of residence. |\n",
    "| Gender           | Customer's gender. |\n",
    "| Age              | Customer's age. |\n",
    "| Tenure           | Number of years the customer has been with the bank. |\n",
    "| Balance          | Customer's bank balance. |\n",
    "| NumOfProducts    | Number of products the customer has with the bank. |\n",
    "| HasCrCard        | Indicates whether the customer has a credit card (1) or not (0). |\n",
    "| IsActiveMember   | Indicates whether the customer is an active member (1) or not (0). |\n",
    "| EstimatedSalary  | Customer's estimated salary. |\n",
    "| Exited           | Whether the customer has Exited   (1) or not (0) - the target variable. |"
   ]
  },
  {
   "cell_type": "markdown",
   "metadata": {},
   "source": [
    " + + + + + + + + + + + + + + + + + + + + + + + + + + + \n",
    "## **🚀 `Decoding Customer Churn: Data Odyssey` 🚀**\n",
    "\n",
    "</p>\n",
    "\n",
    "Dive into the heart of customer retention mysteries with this notebook. Uncover the tapestry of demographics, account intricacies, and the burning question – why do customers say goodbye?\n",
    "\n",
    "<h3>    \n",
    "<center> Unmasking the Exit: Behind Customer Churn </center>\n",
    "</h3>\n",
    "\n",
    "🔍 Beyond the Basics: Not Just Poor Service 🔍\n",
    "\n",
    "Explore the nuanced reasons for churn – from the desire for personalized services to the battlefield of pricing wars. It's a journey into the unexpected, where data reveals the true influencers on customer loyalty.\n",
    "\n",
    "🌐 Personalization Magic: Crafting Unique Experiences 🌐\n",
    "\n",
    "Discover the impact of tailoring services to individual needs. It's not just about the numbers; it's about creating experiences that resonate on a personal level, keeping customers hooked.\n",
    "\n",
    "💸 Pricing Wars: The Strategic Dance 💸\n",
    "\n",
    "Delve into the delicate balance of fees and rates, understanding how they sway customer decisions. It's a battlefield where perceptions of value shape the loyalty landscape.\n",
    "\n",
    "🔄 Exit Strategies: Navigating Account Closure 🔄\n",
    "\n",
    "In the banking world, the ease of account closure is a silent game-changer. We explore the pathways, deciphering how simplicity or complexity shapes the loyalty trajectory.\n",
    "\n",
    "`Join us on this unique journey where data becomes insight, and insight becomes strategy. The pursuit of understanding customer churn goes beyond the ordinary, offering a narrative that's not just informative but captivatingly exceptional.`"
   ]
  },
  {
   "cell_type": "markdown",
   "metadata": {},
   "source": [
    "## **Acknowledgements**\n",
    "\n",
    "@misc{playground-series-s4e1,\\\n",
    "author = {Walter Reade, Ashley Chow},\\\n",
    "title = {Binary Classification with a Bank Churn Dataset },\\\n",
    "publisher = {Kaggle},\\\n",
    "year = {2024},\\\n",
    "[url](https://kaggle.com/competitions/playground-series-s4e1)"
   ]
  },
  {
   "cell_type": "markdown",
   "metadata": {},
   "source": [
    "<div style=\"text-align: left; background-color: #1a1a1a; font-family: 'Trebuchet MS', sans-serif; color: #d9d9d9; padding: 20px; line-height: 1.2; border-radius: 8px; margin-bottom: 0em; text-align: center; font-size: 24px; border: 2px solid #004080;\">\n",
    "Importing Libraries\n",
    "</div>\n",
    "\n"
   ]
  },
  {
   "cell_type": "code",
   "execution_count": null,
   "metadata": {},
   "outputs": [],
   "source": [
    "# import libraries\n",
    "\n",
    "# 1. to handle the data\n",
    "import pandas as pd\n",
    "import numpy as np\n",
    "\n",
    "# to visualize the dataset\n",
    "import matplotlib.pyplot as plt\n",
    "import seaborn as sns\n",
    "import plotly.express as px\n",
    "from tabulate import tabulate\n",
    "\n",
    "# Library to overcome Warnings.\n",
    "import warnings\n",
    "warnings.filterwarnings('ignore')\n",
    "\n",
    "# Library to perform Statistical Analysis.\n",
    "from scipy import stats\n",
    "from scipy.stats import chi2\n",
    "from scipy.stats import chi2_contingency\n",
    "\n",
    "# Library to Display whole Dataset.\n",
    "pd.set_option(\"display.max.columns\",None)\n",
    "\n",
    "# To preprocess the data\n",
    "from sklearn.preprocessing import StandardScaler, MinMaxScaler, LabelEncoder\n",
    "from sklearn.impute import SimpleImputer, KNNImputer\n",
    "# import iterative imputer\n",
    "from sklearn.experimental import enable_iterative_imputer\n",
    "from sklearn.impute import IterativeImputer"
   ]
  },
  {
   "cell_type": "markdown",
   "metadata": {},
   "source": [
    "<div style=\"text-align: left; background-color: #1a1a1a; font-family: 'Trebuchet MS', sans-serif; color: #d9d9d9; padding: 20px; line-height: 1.2; border-radius: 8px; margin-bottom: 0em; text-align: center; font-size: 24px; border: 2px solid #004080;\">\n",
    "Loading DataSet\n",
    "</div>\n"
   ]
  },
  {
   "cell_type": "code",
   "execution_count": null,
   "metadata": {},
   "outputs": [],
   "source": [
    
    "df_train = pd.read_csv(\"train.csv\")\n",
    "df_test = pd.read_csv(\"test.csv\")\n",
    "submission = pd.read_csv(\"sample_submission.csv\")"
   ]
  },
  {
   "cell_type": "markdown",
   "metadata": {},
   "source": [
    "+ Viewing the first 5 rows of `train dataset`"
   ]
  },
  {
   "cell_type": "code",
   "execution_count": null,
   "metadata": {},
   "outputs": [],
   "source": [
    "df_train.head()"
   ]
  },
  {
   "cell_type": "markdown",
   "metadata": {},
   "source": [
    "+ Viewing the first 5 rows of `test dataset`"
   ]
  },
  {
   "cell_type": "markdown",
   "metadata": {},
   "source": [
    "<div style=\"text-align: left; background-color: #1a1a1a; font-family: 'Trebuchet MS', sans-serif; color: #d9d9d9; padding: 20px; line-height: 1.2; border-radius: 8px; margin-bottom: 0em; text-align: center; font-size: 24px; border: 2px solid #004080;\">\n",
    "Data Pre-Processing\n",
    "</div>\n"
   ]
  },
  {
   "cell_type": "markdown",
   "metadata": {},
   "source": [
    "1. Dimension of Data_Set"
   ]
  },
  {
   "cell_type": "code",
   "execution_count": null,
   "metadata": {},
   "outputs": [],
   "source": [
    "print(\"Train dataset shape: \",df_train.shape)\n",
    "print(\"Test dataset shape: \",df_test.shape)"
   ]
  },
  {
   "cell_type": "markdown",
   "metadata": {},
   "source": [
    "<div style=\"border-radius: 8px; border: 2px solid #004080; padding: 15px; background-color: #1a1a1a; font-size: 18px; text-align: left; color: #d9d9d9;\">\n",
    "\n",
    "<h3 align=\"left\"><font color=\"#004080\"> 🔍 Insights:</font></h3>\n",
    "\n",
    "* There are a total of **165,034 records** and **14 columns** available in the dataset for training.\n",
    "\n",
    "</div>\n"
   ]
  },
  {
   "cell_type": "markdown",
   "metadata": {},
   "source": [
    "2. Statistical reults from Data"
   ]
  },
  {
   "cell_type": "code",
   "execution_count": null,
   "metadata": {},
   "outputs": [],
   "source": [
    "df_train.info()"
   ]
  },
  {
   "cell_type": "code",
   "execution_count": null,
   "metadata": {},
   "outputs": [],
   "source": [
    "# Decoding the Data: Unveiling Column Data Types\n",
    "column_data_types = df_train.dtypes\n",
    "\n",
    "# Delving into the Diversity: Counting Numerical and Categorical Columns\n",
    "numerical_count = 0\n",
    "categorical_count = 0\n",
    "\n",
    "for column_name, data_type in column_data_types.items():\n",
    "    if np.issubdtype(data_type, np.number):\n",
    "        numerical_count += 1\n",
    "    else:\n",
    "        categorical_count += 1\n",
    "\n",
    "# Revealing the Composition\n",
    "print(f\"Exploring the Dataset: {numerical_count} Numerical Columns found in the Training Data\")\n",
    "print(f\"Understanding Diversity: {categorical_count} Categorical Columns identified in the Training Data\")\n"
   ]
  },
  {
   "cell_type": "markdown",
   "metadata": {},
   "source": [
    "3. Listing data set in table which are only numeric"
   ]
  },
  {
   "cell_type": "code",
   "execution_count": null,
   "metadata": {},
   "outputs": [],
   "source": [
    "numeric_columns = df_train.select_dtypes(include=[np.number]).columns\n",
    "\n",
    "# Create a DataFrame with the numeric columns\n",
    "numeric_columns_df = pd.DataFrame({\"Numeric Columns\": numeric_columns})\n",
    "\n",
    "# Display the numeric columns in a table\n",
    "print(tabulate(numeric_columns_df, headers=\"keys\", tablefmt=\"pretty\"))"
   ]
  },
  {
   "cell_type": "markdown",
   "metadata": {},
   "source": [
    "4. Listing data set in table which are only Categorical"
   ]
  },
  {
   "cell_type": "code",
   "execution_count": null,
   "metadata": {},
   "outputs": [],
   "source": [
    "categorical_columns = df_train.select_dtypes(include=[\"object\"]).columns\n",
    "\n",
    "# Create a DataFrame with the categorical columns\n",
    "categorical_columns_df = pd.DataFrame({\"Categorical Columns\": categorical_columns})\n",
    "\n",
    "# Display the categorical columns in a table\n",
    "print(tabulate(categorical_columns_df, headers=\"keys\", tablefmt=\"pretty\"))"
   ]
  },
  {
   "cell_type": "markdown",
   "metadata": {},
   "source": [
    "<div style=\"text-align: left; background-color: #1a1a1a; font-family: 'Trebuchet MS', sans-serif; color: #d9d9d9; padding: 20px; line-height: 1.2; border-radius: 8px; margin-bottom: 0em; text-align: center; font-size: 24px; border: 2px solid #004080;\">\n",
    "Dublicates in Data \n",
    "</div>\n"
   ]
  },
  {
   "cell_type": "markdown",
   "metadata": {},
   "source": [
    "5. Checking for Dublicates `in` train and test `data_set`"
   ]
  },
  {
   "cell_type": "code",
   "execution_count": null,
   "metadata": {},
   "outputs": [],
   "source": [
    "print(\"Duplicates in Train Dataset: \",df_train.duplicated().sum())"
   ]
  },
  {
   "cell_type": "code",
   "execution_count": null,
   "metadata": {},
   "outputs": [],
   "source": [
    "print(\"Duplicates in Test Dataset: \",df_train.duplicated().sum())"
   ]
  },
  {
   "cell_type": "markdown",
   "metadata": {},
   "source": [
    "<div style=\"border-radius: 8px; border: 2px solid #004080; padding: 15px; background-color: #1a1a1a; font-size: 18px; text-align: left; color: #d9d9d9;\">\n",
    "\n",
    "<h3 align=\"left\"><font color=\"#004080\"> 🔍 Insights:</font></h3>\n",
    "\n",
    "**🎉 Great News! No duplicate records found in both Train and Test Datasets. 🎉**\n",
    "\n",
    "</div>\n"
   ]
  },
  {
   "cell_type": "markdown",
   "metadata": {},
   "source": [
    "<div style=\"text-align: left; background-color: #1a1a1a; font-family: 'Trebuchet MS', sans-serif; color: #d9d9d9; padding: 20px; line-height: 1.2; border-radius: 8px; margin-bottom: 0em; text-align: center; font-size: 24px; border: 2px solid #004080;\">\n",
    "Missing values in Data\n",
    "</div>\n"
   ]
  },
  {
   "cell_type": "markdown",
   "metadata": {},
   "source": [
    "6. Checking for Missing values and there percentage"
   ]
  },
  {
   "cell_type": "code",
   "execution_count": null,
   "metadata": {},
   "outputs": [],
   "source": [
    "print(\"Checking for missing Values+there percentage in Train Dataset\")\n",
    "missing_data = df_train.isnull().sum().to_frame().rename(columns={0:\"Total No. of Missing Values\"})\n",
    "missing_data[\"% of Missing Values\"] = round((missing_data[\"Total No. of Missing Values\"]/len(df_train))*100,2)\n",
    "missing_data"
   ]
  },
  {
   "cell_type": "code",
   "execution_count": null,
   "metadata": {},
   "outputs": [],
   "source": [
    "print(\"Checking for missing Values+there percentage in Test Dataset\")\n",
    "missing_data = df_test.isnull().sum().to_frame().rename(columns={0:\"Total No. of Missing Values\"})\n",
    "missing_data[\"% of Missing Values\"] = round((missing_data[\"Total No. of Missing Values\"]/len(df_test))*100,2)\n",
    "missing_data"
   ]
  },
  {
   "cell_type": "markdown",
   "metadata": {},
   "source": [
    "\n",
    "\n",
    "<div style=\"border-radius: 8px; border: 2px solid #004080; padding: 15px; background-color: #1a1a1a; font-size: 18px; text-align: left; color: #d9d9d9;\">\n",
    "\n",
    "<h3 align=\"left\"><font color=\"#004080\"> 🔍 Insights:</font></h3>\n",
    "\n",
    "**🚫✨ A Glorious Clean Slate: No Missing Values Detected! ✨🚫**\n",
    "\n",
    "</div>\n"
   ]
  },
  {
   "cell_type": "markdown",
   "metadata": {},
   "source": [
    "<div style=\"text-align: left; background-color: #1a1a1a; font-family: 'Trebuchet MS', sans-serif; color: #d9d9d9; padding: 20px; line-height: 1.2; border-radius: 8px; margin-bottom: 0em; text-align: center; font-size: 24px; border: 2px solid #004080;\">\n",
    "Outliers in Data \n",
    "</div>\n"
   ]
  },
  {
   "cell_type": "markdown",
   "metadata": {},
   "source": [
    "7.1. Outliers checking in `training data` and handling it"
   ]
  },
  {
   "cell_type": "code",
   "execution_count": null,
   "metadata": {},
   "outputs": [],
   "source": [
    "training_num_columns = df_train.select_dtypes(include=['float64', 'int64']).columns.tolist()\n",
    "print(training_num_columns)"
   ]
  },
  {
   "cell_type": "code",
   "execution_count": null,
   "metadata": {},
   "outputs": [],
   "source": [
    "# Create box plots for each numerical column\n",
    "plt.figure(figsize=(18, 10))\n",
    "\n",
    "# Set the color palette\n",
    "custom_palette = sns.dark_palette(\"#1a1a1a\", n_colors=len(training_num_columns))\n",
    "sns.set_palette(custom_palette)\n",
    "sns.set(style=\"whitegrid\")\n",
    "\n",
    "# Adjust the number of rows and columns in the subplot\n",
    "num_rows = 5\n",
    "num_cols = 3\n",
    "\n",
    "for i, col in enumerate(training_num_columns, 1):\n",
    "    plt.subplot(num_rows, num_cols, i)\n",
    "    sns.boxplot(x=df_train[col], color='#004080', width=0.5)    \n",
    "    plt.title(col)\n",
    "    plt.xlabel(\"\")\n",
    "\n",
    "plt.suptitle(\"Distribution of Key Medical Indicators\", y=1.02, fontsize=16)\n",
    "plt.tight_layout(rect=[0, 0, 1, 0.95]) \n",
    "plt.show()\n"
   ]
  },
  {
   "cell_type": "markdown",
   "metadata": {},
   "source": [
    "\n",
    "\n",
    "<div style=\"border-radius: 8px; border: 2px solid #004080; padding: 15px; background-color: #1a1a1a; font-size: 18px; text-align: left; color: #d9d9d9;\">\n",
    "\n",
    "<h3 align=\"left\"><font color=\"#004080\"> 🔍 Insights:</font></h3>\n",
    "\n",
    "**In training Data_set, `Credit_score` and `Age` have most extreme values**\n",
    "\n",
    "</div>\n"
   ]
  },
  {
   "cell_type": "code",
   "execution_count": null,
   "metadata": {},
   "outputs": [],
   "source": [
    "iqr_columns = ['CreditScore', 'Age']"
   ]
  },
  {
   "cell_type": "markdown",
   "metadata": {},
   "source": [
    "The method we are using here is known as the **Tukey's Fences method** for handling outliers. This method identifies outliers based on the interquartile range (IQR), which is the range between the first quartile (Q1) and the third quartile (Q3).\n",
    "\n",
    "In your code:\n",
    "\n",
    "- `median_value` is calculated for each numerical column.\n",
    "- `lower_bound` and `upper_bound` are defined using Tukey's Fences formula, considering values outside this range as potential outliers.\n",
    "- The lambda function is applied to each element in the column, replacing values outside the defined bounds with the median value.\n",
    "\n",
    "This approach is a robust way to handle outliers by replacing them with a less extreme value (the median in this case) rather than outright removing them. It helps to mitigate the impact of extreme values on the analysis."
   ]
  },
  {
   "cell_type": "code",
   "execution_count": null,
   "metadata": {},
   "outputs": [],
   "source": [
    "for col in iqr_columns:\n",
    "    median_value = df_train[col].median()\n",
    "    lower_bound = df_train[col].quantile(0.25) - 1.5 * (df_train[col].quantile(0.75) - df_train[col].quantile(0.25))\n",
    "    upper_bound = df_train[col].quantile(0.75) + 1.5 * (df_train[col].quantile(0.75) - df_train[col].quantile(0.25))\n",
    "    df_train[col] = df_train[col].apply(lambda x: median_value if x < lower_bound or x > upper_bound else x)\n",
    "    "
   ]
  },
  {
   "cell_type": "code",
   "execution_count": null,
   "metadata": {},
   "outputs": [],
   "source": [
    "# Create box plots for each numerical column\n",
    "plt.figure(figsize=(18, 10))\n",
    "\n",
    "# Set the color palette\n",
    "custom_palette = sns.dark_palette(\"#1a1a1a\", n_colors=len(training_num_columns))\n",
    "sns.set_palette(custom_palette)\n",
    "sns.set(style=\"whitegrid\")\n",
    "\n",
    "# Adjust the number of rows and columns in the subplot\n",
    "num_rows = 5\n",
    "num_cols = 3\n",
    "\n",
    "for i, col in enumerate(iqr_columns, 1):\n",
    "    plt.subplot(num_rows, num_cols, i)\n",
    "    sns.boxplot(x=df_train[col], color='#004080', width=0.5)    \n",
    "    plt.title(col)\n",
    "    plt.xlabel(\"\")\n",
    "\n",
    "plt.suptitle(\"Distribution of Key Medical Indicators\", y=1.02, fontsize=16)\n",
    "plt.tight_layout(rect=[0, 0, 1, 0.95]) \n",
    "plt.show()\n"
   ]
  },
  {
   "cell_type": "markdown",
   "metadata": {},
   "source": [
    "\n",
    "\n",
    "<div style=\"border-radius: 8px; border: 2px solid #004080; padding: 15px; background-color: #1a1a1a; font-size: 18px; text-align: left; color: #d9d9d9;\">\n",
    "\n",
    "<h3 align=\"left\"><font color=\"#004080\"> 🔍 Insights:</font></h3>\n",
    "\n",
    "**Most extreme vales of `Credit_score` and `Age` are in much control now**\n",
    "\n",
    "</div>\n"
   ]
  },
  {
   "cell_type": "markdown",
   "metadata": {},
   "source": [
    "7.1. Outliers checking in `testing data` and handling it"
   ]
  },
  {
   "cell_type": "code",
   "execution_count": null,
   "metadata": {},
   "outputs": [],
   "source": [
    "testing_num_columns = df_test.select_dtypes(include=['float64', 'int64']).columns.tolist()\n",
    "print(testing_num_columns)"
   ]
  },
  {
   "cell_type": "code",
   "execution_count": null,
   "metadata": {},
   "outputs": [],
   "source": [
    "# Create box plots for each numerical column\n",
    "plt.figure(figsize=(18, 10))\n",
    "\n",
    "# Set the color palette\n",
    "custom_palette = sns.dark_palette(\"#1a1a1a\", n_colors=len(testing_num_columns))\n",
    "sns.set_palette(custom_palette)\n",
    "sns.set(style=\"whitegrid\")\n",
    "\n",
    "# Adjust the number of rows and columns in the subplot\n",
    "num_rows = 5\n",
    "num_cols = 3\n",
    "\n",
    "for i, col in enumerate(training_num_columns, 1):\n",
    "    plt.subplot(num_rows, num_cols, i)\n",
    "    sns.boxplot(x=df_test[col], color='#004080', width=0.5)    \n",
    "    plt.title(col)\n",
    "    plt.xlabel(\"\")\n",
    "\n",
    "plt.suptitle(\"Distribution of Key Medical Indicators\", y=1.02, fontsize=16)\n",
    "plt.tight_layout(rect=[0, 0, 1, 0.95]) \n",
    "plt.show()\n"
   ]
  },
  {
   "cell_type": "markdown",
   "metadata": {},
   "source": [
    "\n",
    "\n",
    "<div style=\"border-radius: 8px; border: 2px solid #004080; padding: 15px; background-color: #1a1a1a; font-size: 18px; text-align: left; color: #d9d9d9;\">\n",
    "\n",
    "<h3 align=\"left\"><font color=\"#004080\"> 🔍 Insights:</font></h3>\n",
    "\n",
    "**Same problem as training Data_set, `Credit_score` and `Age` have most extreme values**\n",
    "\n",
    "</div>\n"
   ]
  },
  {
   "cell_type": "markdown",
   "metadata": {},
   "source": [
    "+ Using same testing data set approch to deal with them"
   ]
  },
  {
   "cell_type": "code",
   "execution_count": null,
   "metadata": {},
   "outputs": [],
   "source": [
    "iqr_columns = ['CreditScore', 'Age']"
   ]
  },
  {
   "cell_type": "code",
   "execution_count": null,
   "metadata": {},
   "outputs": [],
   "source": [
    "for col in iqr_columns:\n",
    "    median_value = df_test[col].median()\n",
    "    lower_bound = df_test[col].quantile(0.25) - 1.5 * (df_test[col].quantile(0.75) - df_test[col].quantile(0.25))\n",
    "    upper_bound = df_test[col].quantile(0.75) + 1.5 * (df_test[col].quantile(0.75) - df_test[col].quantile(0.25))\n",
    "    df_test[col] = df_test[col].apply(lambda x: median_value if x < lower_bound or x > upper_bound else x)\n",
    "    "
   ]
  },
  {
   "cell_type": "code",
   "execution_count": null,
   "metadata": {},
   "outputs": [],
   "source": [
    "# Create box plots for each numerical column\n",
    "plt.figure(figsize=(18, 10))\n",
    "\n",
    "# Set the color palette\n",
    "custom_palette = sns.dark_palette(\"#1a1a1a\", n_colors=len(training_num_columns))\n",
    "sns.set_palette(custom_palette)\n",
    "sns.set(style=\"whitegrid\")\n",
    "\n",
    "# Adjust the number of rows and columns in the subplot\n",
    "num_rows = 5\n",
    "num_cols = 3\n",
    "\n",
    "for i, col in enumerate(iqr_columns, 1):\n",
    "    plt.subplot(num_rows, num_cols, i)\n",
    "    sns.boxplot(x=df_test[col], color='#004080', width=0.5)    \n",
    "    plt.title(col)\n",
    "    plt.xlabel(\"\")\n",
    "\n",
    "plt.suptitle(\"Distribution of Key Medical Indicators\", y=1.02, fontsize=16)\n",
    "plt.tight_layout(rect=[0, 0, 1, 0.95]) \n",
    "plt.show()\n"
   ]
  },
  {
   "cell_type": "markdown",
   "metadata": {},
   "source": [
    "\n",
    "\n",
    "<div style=\"border-radius: 8px; border: 2px solid #004080; padding: 15px; background-color: #1a1a1a; font-size: 18px; text-align: left; color: #d9d9d9;\">\n",
    "\n",
    "<h3 align=\"left\"><font color=\"#004080\"> 🔍 Insights:</font></h3>\n",
    "\n",
    "**Most extreme vales of `Credit_score` and `Age` are in much control now**\n",
    "\n",
    "</div>\n"
   ]
  },
  {
   "cell_type": "markdown",
   "metadata": {},
   "source": [
    "<div style=\"text-align: left; background-color: #1a1a1a; font-family: 'Trebuchet MS', sans-serif; color: #d9d9d9; padding: 20px; line-height: 1.2; border-radius: 8px; margin-bottom: 0em; text-align: center; font-size: 24px; border: 2px solid #004080;\">\n",
    "Descriptive Analysis of Data\n",
    "</div>\n"
   ]
  },
  {
   "cell_type": "markdown",
   "metadata": {},
   "source": [
    "8.1 Descriptive analysis on `Numerical data`"
   ]
  },
  {
   "cell_type": "code",
   "execution_count": null,
   "metadata": {},
   "outputs": [],
   "source": [
    "round(df_train.describe().T,2)"
   ]
  },
  {
   "cell_type": "markdown",
   "metadata": {},
   "source": [
    "8.2 Descriptive analysis on `Categorical data`"
   ]
  },
  {
   "cell_type": "code",
   "execution_count": null,
   "metadata": {},
   "outputs": [],
   "source": [
    "df_train.describe(include=\"O\").T"
   ]
  },
  {
   "cell_type": "markdown",
   "metadata": {},
   "source": [
    "\n",
    "\n",
    "<div style=\"border-radius: 8px; border: 2px solid #004080; padding: 15px; background-color: #1a1a1a; font-size: 18px; text-align: left; color: #d9d9d9;\">\n",
    "\n",
    "<h3 align=\"left\"><font color=\"#004080\"> 🔍 Insights:</font></h3>\n",
    "\n",
    "+ **Data shows that all persons are adult the min value of `age` we have is `19`**\n",
    "+ **Most are `Male` from `France`**\n",
    "\n",
    "</div>\n"
   ]
  },
  {
   "cell_type": "markdown",
   "metadata": {},
   "source": [
    "<div style=\"text-align: left; background-color: #1a1a1a; font-family: 'Trebuchet MS', sans-serif; color: #d9d9d9; padding: 20px; line-height: 1.2; border-radius: 8px; margin-bottom: 0em; text-align: center; font-size: 24px; border: 2px solid #004080;\">\n",
    "Exploratory Data Analysis (EDA)\n",
    "</div>\n"
   ]
  },
  {
   "cell_type": "markdown",
   "metadata": {},
   "source": [
    "### 1. Visualizing the Employee `churn` Rate"
   ]
  },
  {
   "cell_type": "code",
   "execution_count": null,
   "metadata": {},
   "outputs": [],
   "source": [
    "import matplotlib.pyplot as plt\n",
    "import seaborn as sns\n",
    "\n",
    "# Set the color palette\n",
    "background_color = '#1a1a1a'\n",
    "border_color = '#004080'\n",
    "text_color = '#d9d9d9'\n",
    "\n",
    "# Create a figure with a dark background\n",
    "fig, (ax_bar, ax_pie) = plt.subplots(1, 2, figsize=(12, 6), facecolor=background_color)\n",
    "\n",
    "# Plotting the bar chart\n",
    "churn_counts = df_train[\"Exited\"].value_counts()\n",
    "sns.barplot(x=churn_counts.index, y=churn_counts.values, palette='Set2', ax=ax_bar)\n",
    "ax_bar.set(title=\"Churn Counts\", xlabel=\"Attrition\", ylabel=\"Count\", facecolor=background_color)\n",
    "for i, v in enumerate(churn_counts.values):\n",
    "    ax_bar.text(i, v, str(v), ha=\"center\", va=\"bottom\", fontsize=12, color=text_color)\n",
    "\n",
    "# Create a pie chart\n",
    "churn_colors = sns.color_palette('Set2')\n",
    "ax_pie.pie(churn_counts, labels=churn_counts.index, autopct=\"%.2f%%\", colors=churn_colors, startangle=90)\n",
    "ax_pie.set(title=\"Churn Percentage\", facecolor=background_color)\n",
    "\n",
    "# Set border color\n",
    "for axis in [ax_bar, ax_pie]:\n",
    "    for spine in axis.spines.values():\n",
    "        spine.set_color(border_color)\n",
    "\n",
    "# Set ticks color\n",
    "for axis in [ax_bar, ax_pie]:\n",
    "    axis.tick_params(axis='both', colors=text_color)\n",
    "\n",
    "plt.show()\n"
   ]
  },
  {
   "cell_type": "markdown",
   "metadata": {},
   "source": [
    "\n",
    "\n",
    "<div style=\"border-radius: 8px; border: 2px solid #004080; padding: 15px; background-color: #1a1a1a; font-size: 18px; text-align: left; color: #d9d9d9;\">\n",
    "\n",
    "<h3 align=\"left\"><font color=\"#004080\"> 🔍 Insights:</font></h3>\n",
    "\n",
    "+ **The customers `Churn` rate of this `Bank` is 21.16%**\n",
    "\n",
    "</div>\n"
   ]
  },
  {
   "cell_type": "markdown",
   "metadata": {},
   "source": [
    "# Defining a Function to `Analyse` the `churn rate` with differen `Features` of the Data_set.\n",
    "\n",
    "We defined `Following Functions:`\n",
    "+ pie_bar_plot\n",
    "+ count_percent_plot\n",
    "+ hist_with_hue"
   ]
  },
  {
   "cell_type": "code",
   "execution_count": null,
   "metadata": {},
   "outputs": [],
   "source": [
    "\n",
    "def pie_bar_plot(df, col, churn_col):\n",
    "    # Set the color palette\n",
    "    background_color = '#1a1a1a'\n",
    "    border_color = '#004080'\n",
    "    text_color = '#d9d9d9'\n",
    "    \n",
    "    # Extract value counts for the specified column\n",
    "    value_counts = df[col].value_counts().sort_index()\n",
    "\n",
    "    # Create a DataFrame for the pie chart\n",
    "    pie_df = pd.DataFrame({'labels': value_counts.index, 'values': value_counts.values})\n",
    "\n",
    "    # Create a DataFrame for the bar plot\n",
    "    bar_df = pd.DataFrame({'labels': value_counts.index, 'values': df[df[churn_col] == 1][col].value_counts().sort_index().values})\n",
    "\n",
    "    # Plotly Pie Chart\n",
    "    fig = px.pie(pie_df, names='labels', values='values', title=f\"Distribution by {col}\",\n",
    "                 labels={'labels': f\"Distribution by {col}\"}, \n",
    "                 color_discrete_sequence=px.colors.qualitative.Set2)\n",
    "    \n",
    "    fig.update_traces(textinfo='percent+label', pull=[0.1] * len(pie_df), hoverinfo='label+percent')\n",
    "\n",
    "    # Update layout for the first subplot (Pie chart)\n",
    "    fig.update_layout(\n",
    "        title=dict(font=dict(size=14, color=text_color)),\n",
    "        paper_bgcolor=background_color,\n",
    "        font=dict(color=text_color),\n",
    "    )\n",
    "\n",
    "    # Plotly Bar Chart\n",
    "    bar_fig = px.bar(bar_df, x='labels', y='values', title=f\"Churn Rate by {col}\",\n",
    "                     labels={'labels': f\"Churn Rate by {col}\", 'values': 'Churn Rate'},\n",
    "                     color_discrete_sequence=px.colors.qualitative.Set2)\n",
    "\n",
    "    # Update layout for the second subplot (Bar plot)\n",
    "    bar_fig.update_layout(\n",
    "        title=dict(font=dict(size=14, color=text_color)),\n",
    "        paper_bgcolor=background_color,\n",
    "        font=dict(color=text_color),\n",
    "        xaxis=dict(title=dict(font=dict(size=10, color=text_color))),\n",
    "        yaxis=dict(title=dict(font=dict(size=10, color=text_color))),\n",
    "    )\n",
    "\n",
    "    # Display both charts side by side\n",
    "    bar_fig.show()\n",
    "\n",
    "# Example usage:\n",
    "# pie_bar_plot(your_dataframe, 'some_column', 'churn_col')\n"
   ]
  },
  {
   "cell_type": "code",
   "execution_count": null,
   "metadata": {},
   "outputs": [],
   "source": [
    "\n",
    "def count_percent_plot(df, col, attrition_col):\n",
    "    # Set the color palette\n",
    "    background_color = '#1a1a1a'\n",
    "    border_color = '#004080'\n",
    "    text_color = '#d9d9d9'\n",
    "\n",
    "    # Create a DataFrame for the bar plot\n",
    "    bar_df = pd.DataFrame({'labels': df[col].value_counts().index, 'values': df[col].value_counts().values})\n",
    "\n",
    "    # Create a DataFrame for the second subplot\n",
    "    df['attrition_label'] = np.where(df[attrition_col] == 1, 'Yes', 'No')\n",
    "    value_2 = df[df['attrition_label'] == 'Yes'][col].value_counts().reindex(bar_df['labels'])\n",
    "    attrition_rate = (value_2 / bar_df['values'] * 100).values\n",
    "\n",
    "    # Plotly Bar Chart for Employees by col\n",
    "    fig = px.bar(bar_df, x='labels', y='values', title=f\"Employees by {col}\",\n",
    "                 labels={'labels': f\"{col}\", 'values': 'Count'},\n",
    "                 color_discrete_sequence=px.colors.qualitative.Set2)\n",
    "\n",
    "    # Update layout for the first subplot\n",
    "    fig.update_layout(\n",
    "        title=dict(font=dict(size=14, color=text_color)),\n",
    "        paper_bgcolor=background_color,\n",
    "        font=dict(color=text_color),\n",
    "        xaxis=dict(title=dict(font=dict(size=10, color=text_color))),\n",
    "        yaxis=dict(title=dict(font=dict(size=10, color=text_color))),\n",
    "    )\n",
    "\n",
    "    # Plotly Bar Chart for Employee Attrition by col\n",
    "    attrition_fig = px.bar(x=bar_df['labels'], y=value_2.values, title=f\"Employee Attrition by {col}\",\n",
    "                           labels={'x': f\"{col}\", 'y': 'Count'},\n",
    "                           color_discrete_sequence=px.colors.qualitative.Set2)\n",
    "\n",
    "    # Update layout for the second subplot\n",
    "    attrition_fig.update_layout(\n",
    "        title=dict(font=dict(size=14, color=text_color)),\n",
    "        paper_bgcolor=background_color,\n",
    "        font=dict(color=text_color),\n",
    "        xaxis=dict(title=dict(font=dict(size=10, color=text_color))),\n",
    "        yaxis=dict(title=dict(font=dict(size=10, color=text_color))),\n",
    "    )\n",
    "\n",
    "    # Display both charts side by side\n",
    "    fig.show()\n",
    "    attrition_fig.show()\n",
    "\n",
    "# Example usage:\n",
    "# count_percent_plot(df_train, 'some_column', 'churn_col')\n"
   ]
  },
  {
   "cell_type": "code",
   "execution_count": null,
   "metadata": {},
   "outputs": [],
   "source": [
    "\n",
    "def hist_with_hue(df, col, attrition_col):\n",
    "    # Set the color palette\n",
    "    background_color = '#1a1a1a'\n",
    "    border_color = '#004080'\n",
    "    text_color = '#d9d9d9'\n",
    "    \n",
    "    # Convert integer attrition column to 'Yes' and 'No'\n",
    "    df['attrition_label'] = np.where(df[attrition_col] == 1, 'Yes', 'No')\n",
    "\n",
    "    # Create a DataFrame for the first subplot\n",
    "    hist_df = pd.DataFrame({\n",
    "        'values': df[col],\n",
    "        'attrition_label': df['attrition_label']\n",
    "    })\n",
    "\n",
    "    # Create a DataFrame for the second subplot\n",
    "    box_df = pd.DataFrame({\n",
    "        'values': df[col],\n",
    "        'attrition_label': df['attrition_label']\n",
    "    })\n",
    "\n",
    "    # Plotly Histogram with Hue\n",
    "    fig_hist = px.histogram(hist_df, x='values', color='attrition_label', marginal='box',\n",
    "                            title=f\"Distribution by {col}\",\n",
    "                            labels={'values': f\"{col}\", 'attrition_label': 'Attrition'},\n",
    "                            color_discrete_sequence=px.colors.qualitative.Set2)\n",
    "\n",
    "    # Update layout for the first subplot\n",
    "    fig_hist.update_layout(\n",
    "        title=dict(font=dict(size=14, color=text_color)),\n",
    "        paper_bgcolor=background_color,\n",
    "        font=dict(color=text_color),\n",
    "        xaxis=dict(title=dict(font=dict(size=10, color=text_color))),\n",
    "        yaxis=dict(title=dict(font=dict(size=10, color=text_color))),\n",
    "    )\n",
    "\n",
    "    # Plotly Box Plot\n",
    "    fig_box = px.box(box_df, x='attrition_label', y='values', title=f\"Distribution by {col} & {attrition_col}\",\n",
    "                     labels={'values': f\"{col}\", 'attrition_label': 'Attrition'},\n",
    "                     color_discrete_sequence=px.colors.qualitative.Set2)\n",
    "\n",
    "    # Update layout for the second subplot\n",
    "    fig_box.update_layout(\n",
    "        title=dict(font=dict(size=14, color=text_color)),\n",
    "        paper_bgcolor=background_color,\n",
    "        font=dict(color=text_color),\n",
    "        xaxis=dict(title=dict(font=dict(size=10, color=text_color))),\n",
    "        yaxis=dict(title=dict(font=dict(size=10, color=text_color))),\n",
    "    )\n",
    "\n",
    "    # Display both charts side by side\n",
    "    fig_hist.show()\n",
    "    fig_box.show()\n",
    "\n",
    "# Example usage:\n",
    "# hist_with_hue(df_train, 'some_column', 'churn_col')\n"
   ]
  },
  {
   "cell_type": "markdown",
   "metadata": {},
   "source": [
    "2. Analyzing Employee Churn with `Credit_Score`"
   ]
  },
  {
   "cell_type": "code",
   "execution_count": null,
   "metadata": {},
   "outputs": [],
   "source": [
    "hist_with_hue(df_train, 'CreditScore', 'Exited')"
   ]
  },
  {
   "cell_type": "markdown",
   "metadata": {},
   "source": [
    "\n",
    "\n",
    "<div style=\"border-radius: 8px; border: 2px solid #004080; padding: 15px; background-color: #1a1a1a; font-size: 18px; text-align: left; color: #d9d9d9;\">\n",
    "\n",
    "<h3 align=\"left\"><font color=\"#004080\"> 🔍 Insights:</font></h3>\n",
    "\n",
    "+ **Most of the customer's Credit Score are between 600 to 700 in churn data**\n",
    "+ **Not able to make any decision on it**\n",
    "\n",
    "</div>\n"
   ]
  },
  {
   "cell_type": "markdown",
   "metadata": {},
   "source": [
    "### 3. Analyzing Employee Churn by Geography"
   ]
  },
  {
   "cell_type": "code",
   "execution_count": null,
   "metadata": {},
   "outputs": [],
   "source": [
    "pie_bar_plot(df_train, 'Geography', 'Exited')"
   ]
  },
  {
   "cell_type": "markdown",
   "metadata": {},
   "source": [
    "\n",
    "\n",
    "<div style=\"border-radius: 8px; border: 2px solid #004080; padding: 15px; background-color: #1a1a1a; font-size: 18px; text-align: left; color: #d9d9d9;\">\n",
    "\n",
    "<h3 align=\"left\"><font color=\"#004080\"> 🔍 Insights:</font></h3>\n",
    "\n",
    "\n",
    "1. A significant majority of customers, approximately 57.1%, originate from France.\n",
    "\n",
    "2. Customers from Germany exhibit a notably high attrition rate, signaling a considerable proportion leaving the organization.\n",
    "\n",
    "3. Conversely, customers hailing from France experience a comparatively lower attrition rate, indicating greater retention within the company.\n",
    "\n",
    "</div>\n"
   ]
  },
  {
   "cell_type": "markdown",
   "metadata": {},
   "source": [
    "### 4. Analyzing Employee Churn by Gender."
   ]
  },
  {
   "cell_type": "code",
   "execution_count": null,
   "metadata": {},
   "outputs": [],
   "source": [
    "pie_bar_plot(df_train, 'Gender', 'Exited')"
   ]
  },
  {
   "cell_type": "markdown",
   "metadata": {},
   "source": [
    "\n",
    "\n",
    "<div style=\"border-radius: 8px; border: 2px solid #004080; padding: 15px; background-color: #1a1a1a; font-size: 18px; text-align: left; color: #d9d9d9;\">\n",
    "\n",
    "<h3 align=\"left\"><font color=\"#004080\"> 🔍 Insights:</font></h3>\n",
    "\n",
    "\n",
    "* Male customers accounts for a higher proportion than female customers by more than 12.8%.  \n",
    "* Attrition in female customers is higher compared to male customers.\n",
    "\n",
    "</div>\n"
   ]
  },
  {
   "cell_type": "markdown",
   "metadata": {},
   "source": [
    "### 5. Employee Distribution by Age"
   ]
  },
  {
   "cell_type": "code",
   "execution_count": null,
   "metadata": {},
   "outputs": [],
   "source": [
    "hist_with_hue(df_train, 'Age', 'Exited')"
   ]
  },
  {
   "cell_type": "markdown",
   "metadata": {},
   "source": [
    "\n",
    "\n",
    "<div style=\"border-radius: 8px; border: 2px solid #004080; padding: 15px; background-color: #1a1a1a; font-size: 18px; text-align: left; color: #d9d9d9;\">\n",
    "\n",
    "<h3 align=\"left\"><font color=\"#004080\"> 🔍 Insights:</font></h3>\n",
    "\n",
    "\n",
    "\n",
    "\n",
    "1. The majority of customers fall within the age range of 30 to 40, indicating a concentration of clientele in this demographic.\n",
    "\n",
    "2. A noticeable pattern emerges, revealing a positive correlation between age and attrition. As age increases, the likelihood of customers leaving the organization also rises.\n",
    "\n",
    "3. The median age of customers who exited the organization surpasses that of those who are currently employed, suggesting that departing customers tend to be older on average.\n",
    "\n",
    "4. Notably, there is a higher attrition rate among customers in older age groups compared to their younger counterparts, indicating a trend of increased departure with advancing age.\n",
    "\n",
    "</div>\n"
   ]
  },
  {
   "cell_type": "markdown",
   "metadata": {},
   "source": [
    "#### 6. Analyzing Employee Churn by Tenure"
   ]
  },
  {
   "cell_type": "code",
   "execution_count": null,
   "metadata": {},
   "outputs": [],
   "source": [
    "pie_bar_plot(df_train, 'Tenure', 'Exited')"
   ]
  },
  {
   "cell_type": "markdown",
   "metadata": {},
   "source": [
    "\n",
    "\n",
    "<div style=\"border-radius: 8px; border: 2px solid #004080; padding: 15px; background-color: #1a1a1a; font-size: 18px; text-align: left; color: #d9d9d9;\">\n",
    "\n",
    "<h3 align=\"left\"><font color=\"#004080\"> 🔍 Insights:</font></h3>\n",
    "\n",
    "\n",
    "\n",
    "\n",
    "* Only 0 and 10 Tenure period have less no customers i.e 3% and 6% respectively .  \n",
    "* Attrition rate is almost same in every tenure category i.e in between (19-22 %) except 0 tenure i.e highest 25%.\n",
    "\n",
    "</div>\n"
   ]
  },
  {
   "cell_type": "markdown",
   "metadata": {},
   "source": [
    "#### 7. Analyzing Employee Achur by Balance"
   ]
  },
  {
   "cell_type": "code",
   "execution_count": null,
   "metadata": {},
   "outputs": [],
   "source": [
    "hist_with_hue(df_train, 'Balance', 'Exited')"
   ]
  },
  {
   "cell_type": "markdown",
   "metadata": {},
   "source": [
    "#### 8. Analyzing Employee churn by NumOfProducts"
   ]
  },
  {
   "cell_type": "code",
   "execution_count": null,
   "metadata": {},
   "outputs": [],
   "source": [
    "count_percent_plot(df_train,'NumOfProducts','Exited')"
   ]
  },
  {
   "cell_type": "markdown",
   "metadata": {},
   "source": [
    "#### 9. Analyzing Employee Churn by HasCrCard"
   ]
  },
  {
   "cell_type": "code",
   "execution_count": null,
   "metadata": {},
   "outputs": [],
   "source": [
    "pie_bar_plot(df_train, 'HasCrCard', 'Exited')"
   ]
  },
  {
   "cell_type": "markdown",
   "metadata": {},
   "source": [
    "\n",
    "\n",
    "<div style=\"border-radius: 8px; border: 2px solid #004080; padding: 15px; background-color: #1a1a1a; font-size: 18px; text-align: left; color: #d9d9d9;\">\n",
    "\n",
    "<h3 align=\"left\"><font color=\"#004080\"> 🔍 Insights:</font></h3>\n",
    "\n",
    "\n",
    "\n",
    "\n",
    "* 75% of customers have Credit Card\n",
    "* 25 % of customers dont have credit card\n",
    "* both classes have almost same rate Attrition i.e 20-22 %\n",
    "* No meaningfull information for attrition is seen here.\n",
    "\n",
    "</div>\n"
   ]
  },
  {
   "cell_type": "markdown",
   "metadata": {},
   "source": [
    "#### 10. Analyzing Employee Churn by IsActiveMember"
   ]
  },
  {
   "cell_type": "code",
   "execution_count": null,
   "metadata": {},
   "outputs": [],
   "source": [
    "pie_bar_plot(df_train, 'IsActiveMember', 'Exited')"
   ]
  },
  {
   "cell_type": "markdown",
   "metadata": {},
   "source": [
    "\n",
    "\n",
    "<div style=\"border-radius: 8px; border: 2px solid #004080; padding: 15px; background-color: #1a1a1a; font-size: 18px; text-align: left; color: #d9d9d9;\">\n",
    "\n",
    "<h3 align=\"left\"><font color=\"#004080\"> 🔍 Insights:</font></h3>\n",
    "\n",
    "\n",
    "\n",
    "\n",
    "* 50.2% Customers are Not Active members with attrition rate 29%\n",
    "* 49.8% are active members with attrition rate 12%\n",
    "* Not Active members are most likely to be Exited\n",
    "\n",
    "</div>\n"
   ]
  },
  {
   "cell_type": "markdown",
   "metadata": {},
   "source": [
    "#### 11. Analyzing Employee Churn by EstimatedSalary"
   ]
  },
  {
   "cell_type": "code",
   "execution_count": null,
   "metadata": {},
   "outputs": [],
   "source": [
    "hist_with_hue(df_train, 'EstimatedSalary', 'Exited')"
   ]
  },
  {
   "cell_type": "code",
   "execution_count": null,
   "metadata": {},
   "outputs": [],
   "source": [
    "df_train.columns"
   ]
  },
  {
   "cell_type": "markdown",
   "metadata": {},
   "source": [
    "<div style=\"text-align: left; background-color: #1a1a1a; font-family: 'Trebuchet MS', sans-serif; color: #d9d9d9; padding: 20px; line-height: 1.2; border-radius: 8px; margin-bottom: 0em; text-align: center; font-size: 24px; border: 2px solid #004080;\">\n",
    "Statistical Analysis\n",
    "\n",
    "---\n",
    "\n",
    "**TO be Continuted.....**\n",
    "\n",
    "</div>\n"
   ]
  }
 ],
 "metadata": {
  "kernelspec": {
   "display_name": "python_ml",
   "language": "python",
   "name": "python3"
  },
  "language_info": {
   "codemirror_mode": {
    "name": "ipython",
    "version": 3
   },
   "file_extension": ".py",
   "mimetype": "text/x-python",
   "name": "python",
   "nbconvert_exporter": "python",
   "pygments_lexer": "ipython3",
   "version": "3.11.5"
  }
 },
 "nbformat": 4,
 "nbformat_minor": 2
}
